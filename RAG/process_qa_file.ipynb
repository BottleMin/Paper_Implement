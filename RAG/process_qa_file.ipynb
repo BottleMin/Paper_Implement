{
  "nbformat": 4,
  "nbformat_minor": 0,
  "metadata": {
    "colab": {
      "private_outputs": true,
      "provenance": [],
      "authorship_tag": "ABX9TyOzDHQQVMmRa7ZpPhgcdhjO",
      "include_colab_link": true
    },
    "kernelspec": {
      "name": "python3",
      "display_name": "Python 3"
    },
    "language_info": {
      "name": "python"
    }
  },
  "cells": [
    {
      "cell_type": "markdown",
      "metadata": {
        "id": "view-in-github",
        "colab_type": "text"
      },
      "source": [
        "<a href=\"https://colab.research.google.com/github/BottleMin/Paper_Implement/blob/main/RAG/process_qa_file.ipynb\" target=\"_parent\"><img src=\"https://colab.research.google.com/assets/colab-badge.svg\" alt=\"Open In Colab\"/></a>"
      ]
    },
    {
      "cell_type": "code",
      "execution_count": null,
      "metadata": {
        "id": "-v37C4vvDlfQ"
      },
      "outputs": [],
      "source": [
        "import pandas as pd\n",
        "\n",
        "file_path = 'nq-test.csv'\n",
        "\n",
        "with open(file_path, 'r', encoding='utf-8') as file:\n",
        "    lines = file.readlines()\n",
        "\n",
        "# 질문과 답변 분리\n",
        "processed_lines = []\n",
        "for line in lines:\n",
        "    question, answer = line.strip().split('\\t', 1)\n",
        "    processed_lines.append(question)\n",
        "    processed_lines.append(answer)\n",
        "\n",
        "# 데이터프레임으로 변환\n",
        "questions = processed_lines[0::2]\n",
        "answers = processed_lines[1::2]\n",
        "\n",
        "df = pd.DataFrame({'Question': questions, 'Answer': answers})\n",
        "\n",
        "# 데이터프레임을 CSV 파일로 저장\n",
        "csv_file_path = 'processed_nq_test.csv'\n",
        "df.to_csv(csv_file_path, index=False)"
      ]
    }
  ]
}