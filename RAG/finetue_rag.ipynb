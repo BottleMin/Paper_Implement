{
  "nbformat": 4,
  "nbformat_minor": 0,
  "metadata": {
    "colab": {
      "private_outputs": true,
      "provenance": [],
      "machine_shape": "hm",
      "gpuType": "A100",
      "authorship_tag": "ABX9TyNGtvmXSEbfuwe1wr5dGWRy",
      "include_colab_link": true
    },
    "kernelspec": {
      "name": "python3",
      "display_name": "Python 3"
    },
    "language_info": {
      "name": "python"
    },
    "accelerator": "GPU"
  },
  "cells": [
    {
      "cell_type": "markdown",
      "metadata": {
        "id": "view-in-github",
        "colab_type": "text"
      },
      "source": [
        "<a href=\"https://colab.research.google.com/github/BottleMin/Paper_Implement/blob/main/RAG/finetue_rag.ipynb\" target=\"_parent\"><img src=\"https://colab.research.google.com/assets/colab-badge.svg\" alt=\"Open In Colab\"/></a>"
      ]
    },
    {
      "cell_type": "code",
      "source": [
        "from google.colab import drive\n",
        "drive.mount('/content/drive')"
      ],
      "metadata": {
        "id": "5BLgdj2TcKBr"
      },
      "execution_count": null,
      "outputs": []
    },
    {
      "cell_type": "code",
      "source": [
        "%cd /content/drive/MyDrive/rag_project\n",
        "\n",
        "!pip install --upgrade pip\n",
        "!pip install transformers datasets\n",
        "!pip install faiss-cpu\n",
        "!pip install faiss-gpu\n",
        "!pip install pytorch_lightning"
      ],
      "metadata": {
        "id": "CwffwHyPc5Jf"
      },
      "execution_count": null,
      "outputs": []
    },
    {
      "cell_type": "code",
      "source": [
        "import argparse\n",
        "import logging\n",
        "import os\n",
        "import sys\n",
        "from pathlib import Path\n",
        "from collections import defaultdict\n",
        "from typing import Any, Dict, List, Tuple\n",
        "\n",
        "import faiss\n",
        "import torch\n",
        "import pytorch_lightning as pl\n",
        "from torch.utils.data import DataLoader\n",
        "from transformers import (\n",
        "    RagTokenizer,\n",
        "    RagSequenceForGeneration,\n",
        "    RagRetriever,\n",
        "    DPRContextEncoder,\n",
        "    DPRContextEncoderTokenizer,\n",
        "    DPRQuestionEncoderTokenizer,\n",
        "    BartTokenizer\n",
        ")\n",
        "\n",
        "import pandas as pd\n",
        "import datasets\n",
        "from datasets import Dataset, load_from_disk\n",
        "\n",
        "# OpenMP 오류를 해결하기 위한 환경 변수 설정\n",
        "os.environ['KMP_DUPLICATE_LIB_OK'] = 'TRUE'\n",
        "os.environ['TRUST_REMOTE_CODE'] = 'True'\n"
      ],
      "metadata": {
        "id": "if-IOW2KVg8w"
      },
      "execution_count": null,
      "outputs": []
    },
    {
      "cell_type": "markdown",
      "source": [
        "# 임베딩 계산 함수 정의\n",
        "\n",
        "- compute_embeddings 함수 - 주어진 배치에 대해 텍스트 임베딩을 계산\n",
        "\n",
        "- 입력 데이터를 토큰화하고, 임베딩을 계산하여 반환\n"
      ],
      "metadata": {
        "id": "4tv6BVU1KjSx"
      }
    },
    {
      "cell_type": "code",
      "source": [
        "def compute_embeddings(batch, ctx_tokenizer, ctx_encoder):\n",
        "    inputs = ctx_tokenizer(batch['text'], truncation=True, padding=True, return_tensors=\"pt\")\n",
        "    inputs = {key: val.to(device) for key, val in inputs.items()}  # 입력 텐서를 GPU 또는 CPU로 이동\n",
        "    with torch.no_grad():\n",
        "        embeddings = ctx_encoder(**inputs).pooler_output\n",
        "    return {'embeddings': embeddings.cpu().numpy().tolist()}"
      ],
      "metadata": {
        "id": "S1gEpwfju6_k"
      },
      "execution_count": null,
      "outputs": []
    },
    {
      "cell_type": "markdown",
      "source": [
        "## TSV 파일 로드 및 임베딩 계산\n",
        "\n",
        "- TSV 파일을 로드하고 데이터셋으로 변환\n",
        "\n",
        "- DPR 모델 및 토크나이저를 로드\n",
        "\n",
        "- 텍스트 임베딩을 계산하고 FAISS 인덱스를 생성하여 파일로 저장"
      ],
      "metadata": {
        "id": "WHelOdrBvdKN"
      }
    },
    {
      "cell_type": "code",
      "source": [
        "tsv_file = \"psgs_w100.tsv\"  # 파일 경로를 올바르게 설정\n",
        "dataset_dict = datasets.load_dataset('csv', data_files=tsv_file, delimiter='\\t')\n",
        "\n",
        "# 데이터셋 변환\n",
        "dataset = dataset_dict['train']\n",
        "\n",
        "# 사전 훈련된 DPR 모델 및 토크나이저 로드\n",
        "ctx_tokenizer = DPRContextEncoderTokenizer.from_pretrained('facebook/dpr-ctx_encoder-single-nq-base')\n",
        "ctx_encoder = DPRContextEncoder.from_pretrained('facebook/dpr-ctx_encoder-single-nq-base')\n",
        "\n",
        "# 장치 설정 (GPU가 사용 가능한 경우 GPU 사용)\n",
        "device = 'cuda' if torch.cuda.is_available() else 'cpu'\n",
        "ctx_encoder.to(device)\n",
        "\n",
        "embeddings_dataset = dataset.map(lambda batch: compute_embeddings(batch, ctx_tokenizer, ctx_encoder), batched=True, batch_size=128)\n",
        "\n",
        "embeddings_dataset.add_faiss_index(column='embeddings')\n",
        "\n",
        "# FAISS 인덱스를 파일로 저장\n",
        "faiss.write_index(embeddings_dataset.get_index('embeddings').faiss_index, 'embeddings.faiss')\n"
      ],
      "metadata": {
        "id": "6LPyvUHwuzLe"
      },
      "execution_count": null,
      "outputs": []
    },
    {
      "cell_type": "markdown",
      "source": [
        "# Seq2SeqDataset 및 get_dataloaders 정의\n",
        "\n",
        "## Seq2SeqDataset 클래스\n",
        "Seq2SeqDataset 클래스는 질문과 답변을 포함한 데이터셋을 정의한다. 이 클래스는 텍스트 데이터를 Seq2Seq 형식으로 전처리하여 PyTorch 데이터셋으로 만든다.\n",
        "\n",
        "### 입력 (Inputs)\n",
        "\n",
        "`tokenizer`: 텍스트를 토큰화하기 위한 토크나이저 (BERT)\n",
        "\n",
        "`hf_dataset`: pandas 데이터프레임을 변환한 형태\n",
        "\n",
        "`max_length` (기본값: 512): 입력 시퀀스의 최대 길이\n",
        "\n",
        "### 출력 (Outputs)\n",
        "\n",
        "`__len__` 메서드: 데이터셋의 샘플 수를 반환.\n",
        "\n",
        "`__getitem__` 메서드: 주어진 인덱스에 해당하는 데이터셋의 샘플을 반환.\n",
        "\n",
        "반환되는 샘플은 다음과 같은 딕셔너리 형태이다.:\n",
        "\n",
        "`input_ids`: 질문 텍스트의 토큰화된 입력 시퀀스.\n",
        "\n",
        "`attention_mask`: 입력 시퀀스의 패딩 여부를 나타내는 마스크.\n",
        "\n",
        "`labels`: 답변 텍스트의 토큰화된 시퀀스.\n",
        "\n",
        "## get_dataloaders\n",
        "get_dataloaders 함수는 PyTorch의 DataLoader 객체로, Seq2SeqDataset 클래스를 사용하여 데이터 로더를 생성한다. 모델 학습 및 평가에 사용된다.\n",
        "\n",
        "### 입력 (Inputs)\n",
        "`tokenizer`: 텍스트를 토큰화하기 위한 토크나이저.\n",
        "\n",
        "`data_path`: CSV 파일 경로. 이 파일에는 질문과 답변이 포함\n",
        "\n",
        "`batch_size` (기본값: 4): 배치 크기\n",
        "\n",
        "`max_length` (기본값: 512): 입력 시퀀스의 최대 길이.\n",
        "\n",
        "### 출력 (Outputs)\n",
        "`DataLoader` 객체: 주어진 데이터셋을 배치 단위로 반환하는 데이터 로더."
      ],
      "metadata": {
        "id": "h_G7K9YVLQyp"
      }
    },
    {
      "cell_type": "code",
      "source": [
        "class Seq2SeqDataset(Dataset):\n",
        "    def __init__(self, tokenizer, hf_dataset, max_length=512):\n",
        "        self.tokenizer = tokenizer\n",
        "        self.dataset = hf_dataset\n",
        "        self.max_length = max_length\n",
        "\n",
        "    def __len__(self):\n",
        "        return len(self.dataset)\n",
        "\n",
        "    def __getitem__(self, idx):\n",
        "        question = self.dataset[idx]['Question']\n",
        "        answer = self.dataset[idx]['Answer']\n",
        "\n",
        "        inputs = self.tokenizer(question, padding=\"max_length\", truncation=True, max_length=self.max_length, return_tensors=\"pt\")\n",
        "        labels = self.tokenizer(answer, padding=\"max_length\", truncation=True, max_length=self.max_length, return_tensors=\"pt\")\n",
        "\n",
        "        item = {key: val.squeeze() for key, val in inputs.items()}\n",
        "        item['labels'] = labels['input_ids'].squeeze()\n",
        "\n",
        "        return item\n",
        "\n",
        "def get_dataloaders(tokenizer, data_path, batch_size=8, max_length=512):\n",
        "    train_data = pd.read_csv(data_path)\n",
        "    hf_dataset = datasets.Dataset.from_pandas(train_data)\n",
        "\n",
        "    dataset = Seq2SeqDataset(tokenizer, hf_dataset, max_length=max_length)\n",
        "\n",
        "    dataloader = DataLoader(dataset, batch_size=batch_size, shuffle=True)\n",
        "\n",
        "    return dataloader"
      ],
      "metadata": {
        "id": "mRJ8L8OberGC"
      },
      "execution_count": null,
      "outputs": []
    },
    {
      "cell_type": "markdown",
      "source": [
        "# GenerativeQAModule 클래스 분석\n",
        "\n",
        "`GenerativeQAModule` 클래스는 RAG 모델의 학습, 평가, 및 예측을 위한 PyTorch Lightning 모듈\n",
        "\n",
        "## 클래스 초기화 (`__init__` 메서드)\n",
        "\n",
        "### 입력 (Inputs)\n",
        "- `arg hparams`: 학습에 필요한 하이퍼파라미터를 포함하는 딕셔너리.\n",
        "\n",
        "### 출력 (Outputs)\n",
        "- 없음. (클래스 초기화)\n",
        "\n",
        "## 순전파 계산 (`forward` 메서드)\n",
        "\n",
        "### 입력 (Inputs)\n",
        "- `arg input_ids`: 입력 시퀀스의 토큰 ID.\n",
        "- `arg attention_mask` (옵션): 입력 시퀀스의 패딩 여부를 나타내는 마스크.\n",
        "- `arg labels` (옵션): 정답 시퀀스의 토큰 ID.\n",
        "\n",
        "### 출력 (Outputs)\n",
        "- 모델 출력 객체. (손실, 로짓 등을 포함)\n",
        "\n",
        "## 학습 단계 (`training_step` 메서드)\n",
        "\n",
        "### 입력 (Inputs)\n",
        "- `arg batch`: 입력 데이터 배치.\n",
        "- `arg batch_idx`: 배치 인덱스.\n",
        "\n",
        "### 출력 (Outputs)\n",
        "- 손실 값과 로그를 포함하는 딕셔너리.\n",
        "\n",
        "## 옵티마이저 설정 (`configure_optimizers` 메서드)\n",
        "\n",
        "### 입력 (Inputs)\n",
        "- 없음.\n",
        "\n",
        "### 출력 (Outputs)\n",
        "- `torch.optim.AdamW` 옵티마이저 객체.\n",
        "\n",
        "## 5. 데이터 로더 설정 (`train_dataloader` 메서드)\n",
        "\n",
        "### 입력 (Inputs)\n",
        "- 없음.\n",
        "\n",
        "### 출력 (Outputs)\n",
        "- 학습 데이터 로더 객체.\n",
        "\n",
        "---\n",
        "\n",
        "`GenerativeQAModule` 클래스는 다음과 같은 기능을 제공:\n",
        "- 토크나이저 및 모델 초기화\n",
        "- 데이터 로딩\n",
        "- 순전파 및 역전파 계산\n",
        "- 손실 로깅\n",
        "- 옵티마이저 설정\n"
      ],
      "metadata": {
        "id": "amk2efRJM-No"
      }
    },
    {
      "cell_type": "code",
      "source": [
        "# 로깅 설정\n",
        "logging.basicConfig(level=logging.INFO)\n",
        "logger = logging.getLogger(__name__)\n",
        "\n",
        "class GenerativeQAModule(pl.LightningModule):\n",
        "    def __init__(self, hparams):\n",
        "        super(GenerativeQAModule, self).__init__()\n",
        "\n",
        "        # 하이퍼파라미터 저장\n",
        "        self.save_hyperparameters(hparams)\n",
        "\n",
        "        self.question_encoder_tokenizer = DPRQuestionEncoderTokenizer.from_pretrained(\"facebook/dpr-question_encoder-single-nq-base\")\n",
        "        self.generator_tokenizer = BartTokenizer.from_pretrained(\"facebook/bart-large\")\n",
        "        self.tokenizer = RagTokenizer(self.question_encoder_tokenizer,self.generator_tokenizer)\n",
        "\n",
        "        self.retriever = RagRetriever.from_pretrained(\n",
        "            \"facebook/rag-sequence-base\",\n",
        "            indexed_dataset=hparams.indexed_dataset\n",
        "        )\n",
        "        self.model = RagSequenceForGeneration.from_pretrained(\n",
        "            \"facebook/rag-sequence-base\",\n",
        "            retriever=self.retriever\n",
        "        )\n",
        "\n",
        "        # 기타 설정\n",
        "        self.step_count = 0\n",
        "        self.metrics = defaultdict(list)\n",
        "\n",
        "        # 특정 레이어를 비활성화하여 메모리 사용량 줄이기\n",
        "        for name, param in self.model.generator.named_parameters():\n",
        "            parts = name.split('.')\n",
        "            if 'layers' in name and parts[1].isdigit():\n",
        "                layer_num = int(parts[1])\n",
        "                if layer_num > 6:\n",
        "                    param.requires_grad = False\n",
        "\n",
        "    def forward(self, input_ids, attention_mask=None, labels=None):\n",
        "        return self.model(input_ids=input_ids, attention_mask=attention_mask, labels=labels)\n",
        "\n",
        "    def training_step(self, batch, batch_idx):\n",
        "        inputs = {key: val.to(self.device) for key, val in batch.items()}\n",
        "        outputs = self.model(**inputs)\n",
        "        loss = outputs.loss.mean()\n",
        "\n",
        "        # 로깅\n",
        "        logs = {'train_loss': loss.detach()}\n",
        "\n",
        "        # tokens per batch\n",
        "        tgt_pad_token_id = (\n",
        "            self.tokenizer.generator.pad_token_id\n",
        "            if isinstance(self.tokenizer, RagTokenizer)\n",
        "            else self.tokenizer.pad_token_id\n",
        "        )\n",
        "        src_pad_token_id = (\n",
        "            self.tokenizer.question_encoder.pad_token_id\n",
        "            if isinstance(self.tokenizer, RagTokenizer)\n",
        "            else self.tokenizer.pad_token_id\n",
        "        )\n",
        "        logs[\"tpb\"] = (\n",
        "            batch[\"input_ids\"].ne(src_pad_token_id).sum() + batch[\"decoder_input_ids\"].ne(tgt_pad_token_id).sum()\n",
        "        )\n",
        "\n",
        "        self.log('train_loss', loss, on_step=True, on_epoch=True, prog_bar=True, logger=True, sync_dist=True)\n",
        "    return {\"loss\": loss, \"log\": logs}\n",
        "\n",
        "\n",
        "    def configure_optimizers(self):\n",
        "        return torch.optim.AdamW(self.parameters(), lr=self.hparams['learning_rate'])\n",
        "\n",
        "    def train_dataloader(self):\n",
        "        return get_dataloaders(\n",
        "            self.tokenizer,\n",
        "            self.hparams['train_file_path'],\n",
        "            batch_size=self.hparams['batch_size'],\n",
        "            max_length=self.hparams['max_length'],\n",
        "            num_workers=4\n",
        "        )\n"
      ],
      "metadata": {
        "id": "Cp9W8x6Zu9t0"
      },
      "execution_count": null,
      "outputs": []
    },
    {
      "cell_type": "code",
      "source": [
        "parser = argparse.ArgumentParser(description=\"Generative QA Model Training Script\")\n",
        "\n",
        "parser.add_argument(\"--indexed_dataset\", type=type(embeddings_dataset), default=embeddings_dataset, help=\"Path to the indexed dataset\")\n",
        "parser.add_argument(\"--learning_rate\", type=float, default=3e-5, help=\"Learning rate for the optimizer\")\n",
        "parser.add_argument(\"--train_file_path\", type=str, default=\"/content/drive/MyDrive/rag_project/nq-train.csv\", help=\"Path to the training CSV file\")\n",
        "parser.add_argument(\"--batch_size\", type=int, default=2, help=\"Batch size for training\")\n",
        "parser.add_argument(\"--max_length\", type=int, default=512, help=\"Maximum length of the input sequences\")\n",
        "parser.add_argument(\"--max_epochs\", type=int, default=1, help=\"Number of epochs for training\")\n",
        "\n",
        "args = parser.parse_args([])"
      ],
      "metadata": {
        "id": "V4DmJe42vJqf"
      },
      "execution_count": null,
      "outputs": []
    },
    {
      "cell_type": "code",
      "source": [
        "model = GenerativeQAModule(args)\n",
        "\n",
        "train_dataloader = get_dataloaders(model.tokenizer, args.train_file_path, batch_size=args.batch_size, max_length=args.max_length)"
      ],
      "metadata": {
        "id": "3OPSPmsuvnQj"
      },
      "execution_count": null,
      "outputs": []
    },
    {
      "cell_type": "code",
      "source": [
        "import gc\n",
        "gc.collect()\n",
        "torch.cuda.empty_cache()\n",
        "\n",
        "trainer = pl.Trainer(\n",
        "        max_epochs=args.max_epochs,\n",
        "        accelerator='gpu' if torch.cuda.is_available() else 'cpu',\n",
        "        devices=1 if torch.cuda.is_available() else 0,\n",
        "        precision='16-mixed',  # Mixed Precision Training 활성화\n",
        "        accumulate_grad_batches=2,  # Gradient Accumulation 적용\n",
        "        enable_progress_bar=True\n",
        "    )\n",
        "\n",
        "trainer.fit(model, train_dataloader)"
      ],
      "metadata": {
        "id": "_6ZN6aqifJcd"
      },
      "execution_count": null,
      "outputs": []
    },
    {
      "cell_type": "code",
      "source": [
        "# 모델 저장\n",
        "save_path = \"/content/drive/MyDrive/rag_project/trained_model\"\n",
        "trainer.save_checkpoint(os.path.join(save_path, \"model_checkpoint.ckpt\"))\n",
        "\n",
        "# 모델 파라미터 저장\n",
        "model.model.save_pretrained(save_path)\n",
        "model.tokenizer.save_pretrained(save_path)\n",
        "model.retriever.save_pretrained(save_path)\n"
      ],
      "metadata": {
        "id": "c0e-9FLl_u5c"
      },
      "execution_count": null,
      "outputs": []
    }
  ]
}