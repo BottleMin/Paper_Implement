{
  "nbformat": 4,
  "nbformat_minor": 0,
  "metadata": {
    "colab": {
      "private_outputs": true,
      "provenance": [],
      "machine_shape": "hm",
      "gpuType": "A100",
      "authorship_tag": "ABX9TyP+gT6RlZJAcK24f6xQY0yv"
    },
    "kernelspec": {
      "name": "python3",
      "display_name": "Python 3"
    },
    "language_info": {
      "name": "python"
    },
    "accelerator": "GPU"
  },
  "cells": [
    {
      "cell_type": "code",
      "source": [
        "from google.colab import drive\n",
        "drive.mount('/content/drive')"
      ],
      "metadata": {
        "id": "5BLgdj2TcKBr"
      },
      "execution_count": null,
      "outputs": []
    },
    {
      "cell_type": "code",
      "source": [
        "%cd /content/drive/MyDrive/rag_project\n",
        "\n",
        "!pip install --upgrade pip\n",
        "!pip install transformers datasets\n",
        "!pip install faiss-cpu\n",
        "!pip install faiss-gpu\n",
        "!pip install pytorch_lightning"
      ],
      "metadata": {
        "id": "CwffwHyPc5Jf"
      },
      "execution_count": null,
      "outputs": []
    },
    {
      "cell_type": "code",
      "source": [
        "import argparse\n",
        "import logging\n",
        "import os\n",
        "import sys\n",
        "from pathlib import Path\n",
        "from collections import defaultdict\n",
        "from typing import Any, Dict, List, Tuple\n",
        "\n",
        "import faiss\n",
        "import torch\n",
        "import pytorch_lightning as pl\n",
        "from torch.utils.data import DataLoader\n",
        "from transformers import (\n",
        "    RagTokenizer,\n",
        "    RagSequenceForGeneration,\n",
        "    RagRetriever,\n",
        "    DPRContextEncoder,\n",
        "    DPRContextEncoderTokenizer,\n",
        "    DPRQuestionEncoderTokenizer,\n",
        "    BartTokenizer\n",
        ")\n",
        "\n",
        "import pandas as pd\n",
        "import datasets\n",
        "from datasets import Dataset, load_from_disk\n",
        "\n",
        "# OpenMP 오류를 해결하기 위한 환경 변수 설정\n",
        "os.environ['KMP_DUPLICATE_LIB_OK'] = 'TRUE'\n",
        "os.environ['TRUST_REMOTE_CODE'] = 'True'\n"
      ],
      "metadata": {
        "id": "if-IOW2KVg8w"
      },
      "execution_count": null,
      "outputs": []
    },
    {
      "cell_type": "code",
      "source": [
        "def compute_embeddings(batch, ctx_tokenizer, ctx_encoder):\n",
        "    inputs = ctx_tokenizer(batch['text'], truncation=True, padding=True, return_tensors=\"pt\")\n",
        "    inputs = {key: val.to(device) for key, val in inputs.items()}  # 입력 텐서를 GPU 또는 CPU로 이동\n",
        "    with torch.no_grad():\n",
        "        embeddings = ctx_encoder(**inputs).pooler_output\n",
        "    return {'embeddings': embeddings.cpu().numpy().tolist()}"
      ],
      "metadata": {
        "id": "S1gEpwfju6_k"
      },
      "execution_count": null,
      "outputs": []
    },
    {
      "cell_type": "markdown",
      "source": [],
      "metadata": {
        "id": "WHelOdrBvdKN"
      }
    },
    {
      "cell_type": "code",
      "source": [
        "tsv_file = \"psgs_w100.tsv\"  # 파일 경로를 올바르게 설정\n",
        "dataset_dict = datasets.load_dataset('csv', data_files=tsv_file, delimiter='\\t')\n",
        "\n",
        "# 데이터셋 변환\n",
        "dataset = dataset_dict['train']\n",
        "\n",
        "# 사전 훈련된 DPR 모델 및 토크나이저 로드\n",
        "ctx_tokenizer = DPRContextEncoderTokenizer.from_pretrained('facebook/dpr-ctx_encoder-single-nq-base')\n",
        "ctx_encoder = DPRContextEncoder.from_pretrained('facebook/dpr-ctx_encoder-single-nq-base')\n",
        "\n",
        "# 장치 설정 (GPU가 사용 가능한 경우 GPU 사용)\n",
        "device = 'cuda' if torch.cuda.is_available() else 'cpu'\n",
        "ctx_encoder.to(device)\n",
        "\n",
        "embeddings_dataset = dataset.map(lambda batch: compute_embeddings(batch, ctx_tokenizer, ctx_encoder), batched=True, batch_size=128)\n",
        "\n",
        "embeddings_dataset.add_faiss_index(column='embeddings')\n",
        "\n",
        "# FAISS 인덱스를 파일로 저장\n",
        "faiss.write_index(embeddings_dataset.get_index('embeddings').faiss_index, 'embeddings.faiss')\n"
      ],
      "metadata": {
        "id": "6LPyvUHwuzLe"
      },
      "execution_count": null,
      "outputs": []
    },
    {
      "cell_type": "code",
      "source": [
        "class Seq2SeqDataset(Dataset):\n",
        "    def __init__(self, tokenizer, hf_dataset, max_length=512):\n",
        "        self.tokenizer = tokenizer\n",
        "        self.dataset = hf_dataset\n",
        "        self.max_length = max_length\n",
        "\n",
        "    def __len__(self):\n",
        "        return len(self.dataset)\n",
        "\n",
        "    def __getitem__(self, idx):\n",
        "        question = self.dataset[idx]['Question']\n",
        "        answer = self.dataset[idx]['Answer']\n",
        "\n",
        "        inputs = self.tokenizer(question, padding=\"max_length\", truncation=True, max_length=self.max_length, return_tensors=\"pt\")\n",
        "        labels = self.tokenizer(answer, padding=\"max_length\", truncation=True, max_length=self.max_length, return_tensors=\"pt\")\n",
        "\n",
        "        item = {key: val.squeeze() for key, val in inputs.items()}\n",
        "        item['labels'] = labels['input_ids'].squeeze()\n",
        "\n",
        "        return item\n",
        "\n",
        "def get_dataloaders(tokenizer, data_path, batch_size=8, max_length=512):\n",
        "    train_data = pd.read_csv(data_path)\n",
        "    hf_dataset = datasets.Dataset.from_pandas(train_data)\n",
        "\n",
        "    dataset = Seq2SeqDataset(tokenizer, hf_dataset, max_length=max_length)\n",
        "\n",
        "    dataloader = DataLoader(dataset, batch_size=batch_size, shuffle=True)\n",
        "\n",
        "    return dataloader"
      ],
      "metadata": {
        "id": "mRJ8L8OberGC"
      },
      "execution_count": null,
      "outputs": []
    },
    {
      "cell_type": "code",
      "source": [
        "# 로깅 설정\n",
        "logging.basicConfig(level=logging.INFO)\n",
        "logger = logging.getLogger(__name__)\n",
        "\n",
        "class GenerativeQAModule(pl.LightningModule):\n",
        "    def __init__(self, hparams):\n",
        "        super(GenerativeQAModule, self).__init__()\n",
        "\n",
        "        # 하이퍼파라미터 저장\n",
        "        self.save_hyperparameters(hparams)\n",
        "\n",
        "        self.question_encoder_tokenizer = DPRQuestionEncoderTokenizer.from_pretrained(\"facebook/dpr-question_encoder-single-nq-base\")\n",
        "        self.generator_tokenizer = BartTokenizer.from_pretrained(\"facebook/bart-large\")\n",
        "        self.tokenizer = RagTokenizer(self.question_encoder_tokenizer,self.generator_tokenizer)\n",
        "\n",
        "        self.retriever = RagRetriever.from_pretrained(\n",
        "            \"facebook/rag-sequence-base\",\n",
        "            indexed_dataset=hparams.indexed_dataset\n",
        "        )\n",
        "        self.model = RagSequenceForGeneration.from_pretrained(\n",
        "            \"facebook/rag-sequence-base\",\n",
        "            retriever=self.retriever\n",
        "        )\n",
        "\n",
        "        # 기타 설정\n",
        "        self.step_count = 0\n",
        "        self.metrics = defaultdict(list)\n",
        "\n",
        "        # 특정 레이어를 비활성화하여 메모리 사용량 줄이기\n",
        "        for name, param in self.model.generator.named_parameters():\n",
        "            parts = name.split('.')\n",
        "            if 'layers' in name and parts[1].isdigit():\n",
        "                layer_num = int(parts[1])\n",
        "                if layer_num > 6:\n",
        "                    param.requires_grad = False\n",
        "\n",
        "    def forward(self, input_ids, attention_mask=None, labels=None):\n",
        "        return self.model(input_ids=input_ids, attention_mask=attention_mask, labels=labels)\n",
        "\n",
        "    def training_step(self, batch, batch_idx):\n",
        "        inputs = {key: val.to(self.device) for key, val in batch.items()}\n",
        "        outputs = self.model(**inputs)\n",
        "        loss = outputs.loss.mean()\n",
        "\n",
        "        # 로깅\n",
        "        logs = {'train_loss': loss.detach()}\n",
        "\n",
        "        # tokens per batch\n",
        "        tgt_pad_token_id = (\n",
        "            self.tokenizer.generator.pad_token_id\n",
        "            if isinstance(self.tokenizer, RagTokenizer)\n",
        "            else self.tokenizer.pad_token_id\n",
        "        )\n",
        "        src_pad_token_id = (\n",
        "            self.tokenizer.question_encoder.pad_token_id\n",
        "            if isinstance(self.tokenizer, RagTokenizer)\n",
        "            else self.tokenizer.pad_token_id\n",
        "        )\n",
        "        logs[\"tpb\"] = (\n",
        "            batch[\"input_ids\"].ne(src_pad_token_id).sum() + batch[\"decoder_input_ids\"].ne(tgt_pad_token_id).sum()\n",
        "        )\n",
        "\n",
        "        self.log('train_loss', loss, on_step=True, on_epoch=True, prog_bar=True, logger=True, sync_dist=True)\n",
        "    return {\"loss\": loss, \"log\": logs}\n",
        "\n",
        "\n",
        "    def configure_optimizers(self):\n",
        "        return torch.optim.AdamW(self.parameters(), lr=self.hparams['learning_rate'])\n",
        "\n",
        "    def train_dataloader(self):\n",
        "        return get_dataloaders(\n",
        "            self.tokenizer,\n",
        "            self.hparams['train_file_path'],\n",
        "            batch_size=self.hparams['batch_size'],\n",
        "            max_length=self.hparams['max_length'],\n",
        "            num_workers=4\n",
        "        )\n"
      ],
      "metadata": {
        "id": "Cp9W8x6Zu9t0"
      },
      "execution_count": null,
      "outputs": []
    },
    {
      "cell_type": "code",
      "source": [
        "parser = argparse.ArgumentParser(description=\"Generative QA Model Training Script\")\n",
        "\n",
        "parser.add_argument(\"--indexed_dataset\", type=type(embeddings_dataset), default=embeddings_dataset, help=\"Path to the indexed dataset\")\n",
        "parser.add_argument(\"--learning_rate\", type=float, default=3e-5, help=\"Learning rate for the optimizer\")\n",
        "parser.add_argument(\"--train_file_path\", type=str, default=\"/content/drive/MyDrive/rag_project/nq-train.csv\", help=\"Path to the training CSV file\")\n",
        "parser.add_argument(\"--batch_size\", type=int, default=2, help=\"Batch size for training\")\n",
        "parser.add_argument(\"--max_length\", type=int, default=512, help=\"Maximum length of the input sequences\")\n",
        "parser.add_argument(\"--max_epochs\", type=int, default=1, help=\"Number of epochs for training\")\n",
        "\n",
        "args = parser.parse_args([])"
      ],
      "metadata": {
        "id": "V4DmJe42vJqf"
      },
      "execution_count": null,
      "outputs": []
    },
    {
      "cell_type": "code",
      "source": [
        "model = GenerativeQAModule(args)\n",
        "\n",
        "train_dataloader = get_dataloaders(model.tokenizer, args.train_file_path, batch_size=args.batch_size, max_length=args.max_length)"
      ],
      "metadata": {
        "id": "3OPSPmsuvnQj"
      },
      "execution_count": null,
      "outputs": []
    },
    {
      "cell_type": "code",
      "source": [
        "import gc\n",
        "gc.collect()\n",
        "torch.cuda.empty_cache()\n",
        "\n",
        "trainer = pl.Trainer(\n",
        "        max_epochs=args.max_epochs,\n",
        "        accelerator='gpu' if torch.cuda.is_available() else 'cpu',\n",
        "        devices=1 if torch.cuda.is_available() else 0,\n",
        "        precision='16-mixed',  # Mixed Precision Training 활성화\n",
        "        accumulate_grad_batches=2,  # Gradient Accumulation 적용\n",
        "        enable_progress_bar=True\n",
        "    )\n",
        "\n",
        "trainer.fit(model, train_dataloader)"
      ],
      "metadata": {
        "id": "_6ZN6aqifJcd"
      },
      "execution_count": null,
      "outputs": []
    },
    {
      "cell_type": "code",
      "source": [
        "# 모델 저장\n",
        "save_path = \"/content/drive/MyDrive/rag_project/trained_model\"\n",
        "trainer.save_checkpoint(os.path.join(save_path, \"model_checkpoint.ckpt\"))\n",
        "\n",
        "# 모델 파라미터 저장\n",
        "model.model.save_pretrained(save_path)\n",
        "model.tokenizer.save_pretrained(save_path)\n",
        "model.retriever.save_pretrained(save_path)\n"
      ],
      "metadata": {
        "id": "c0e-9FLl_u5c"
      },
      "execution_count": null,
      "outputs": []
    }
  ]
}